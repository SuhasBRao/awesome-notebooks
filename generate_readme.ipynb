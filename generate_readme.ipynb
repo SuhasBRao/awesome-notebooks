{
 "cells": [
  {
   "cell_type": "markdown",
   "id": "latter-teddy",
   "metadata": {},
   "source": [
    "<img width=\"10%\" alt=\"Naas\" src=\"https://landen.imgix.net/jtci2pxwjczr/assets/5ice39g4.png?w=160\"/>\n",
    "\n",
    "# Generate Readme for Awesome Notebooks"
   ]
  },
  {
   "cell_type": "markdown",
   "id": "421e4c6e-d5ef-4d53-9d36-f352426c4d87",
   "metadata": {
    "execution": {
     "iopub.execute_input": "2021-10-06T11:02:41.091855Z",
     "iopub.status.busy": "2021-10-06T11:02:41.091514Z",
     "iopub.status.idle": "2021-10-06T11:02:41.099143Z",
     "shell.execute_reply": "2021-10-06T11:02:41.098565Z",
     "shell.execute_reply.started": "2021-10-06T11:02:41.091773Z"
    },
    "tags": []
   },
   "source": [
    "## Input"
   ]
  },
  {
   "cell_type": "markdown",
   "id": "e84f7e80-dda2-4569-96dd-5abaaed2c73a",
   "metadata": {},
   "source": [
    "### Import librairies"
   ]
  },
  {
   "cell_type": "code",
   "execution_count": null,
   "id": "sitting-directory",
   "metadata": {
    "execution": {
     "iopub.execute_input": "2022-10-15T17:28:12.726516Z",
     "iopub.status.busy": "2022-10-15T17:28:12.726191Z",
     "iopub.status.idle": "2022-10-15T17:28:16.025013Z",
     "shell.execute_reply": "2022-10-15T17:28:16.024071Z"
    },
    "tags": []
   },
   "outputs": [],
   "source": [
    "import os\n",
    "import requests\n",
    "import pandas as pd\n",
    "import naas_drivers\n",
    "import urllib.parse\n",
    "import json\n",
    "import copy\n",
    "import markdown\n",
    "import nbformat\n",
    "from nbconvert import MarkdownExporter\n",
    "from papermill.iorw import (\n",
    "    load_notebook_node,\n",
    "    write_ipynb,\n",
    ")\n",
    "try:\n",
    "    from git import Repo\n",
    "except:\n",
    "    !pip install GitPython\n",
    "    from git import Repo"
   ]
  },
  {
   "cell_type": "markdown",
   "id": "agricultural-contest",
   "metadata": {},
   "source": [
    "### Variables"
   ]
  },
  {
   "cell_type": "code",
   "execution_count": null,
   "id": "guided-edgar",
   "metadata": {
    "execution": {
     "iopub.execute_input": "2022-10-15T17:28:16.030911Z",
     "iopub.status.busy": "2022-10-15T17:28:16.029959Z",
     "iopub.status.idle": "2022-10-15T17:28:16.034849Z",
     "shell.execute_reply": "2022-10-15T17:28:16.033972Z"
    },
    "tags": []
   },
   "outputs": [],
   "source": [
    "# README variables\n",
    "readme_template = \"README_template.md\"\n",
    "readme = \"README.md\"\n",
    "replace_var = \"[[DYNAMIC_LIST]]\"\n",
    "\n",
    "# Json output\n",
    "json_file = \"templates.json\"\n",
    "\n",
    "# Others\n",
    "current_file = '.'\n",
    "notebook_ext = '.ipynb'\n",
    "github_url = 'https://github.com/jupyter-naas/awesome-notebooks/tree/master'\n",
    "github_download_url = 'https://raw.githubusercontent.com/jupyter-naas/awesome-notebooks/master/'\n",
    "naas_download_url ='https://app.naas.ai/user-redirect/naas/downloader?url='\n",
    "naas_logo ='https://naasai-public.s3.eu-west-3.amazonaws.com/open_in_naas.svg'"
   ]
  },
  {
   "cell_type": "markdown",
   "id": "distinguished-declaration",
   "metadata": {},
   "source": [
    "### Get files list"
   ]
  },
  {
   "cell_type": "code",
   "execution_count": null,
   "id": "36c9011e-5f51-4779-8062-a627503100e1",
   "metadata": {
    "execution": {
     "iopub.execute_input": "2022-10-15T17:28:16.038709Z",
     "iopub.status.busy": "2022-10-15T17:28:16.038281Z",
     "iopub.status.idle": "2022-10-15T17:28:16.270288Z",
     "shell.execute_reply": "2022-10-15T17:28:16.269517Z"
    },
    "tags": []
   },
   "outputs": [],
   "source": [
    "repo = Repo('.')\n",
    "branch = repo.active_branch\n",
    "list_of_dir = f\"https://api.github.com/repos/jupyter-naas/awesome-notebooks/git/trees/{branch.name}?recursive=1\"\n",
    "r_gh = requests.get(list_of_dir).json().get(\"tree\")\n",
    "notebooks = []\n",
    "\n",
    "for file in r_gh:\n",
    "    if \".github\" not in file.get(\"path\") and \".gitignore\" not in file.get(\"path\") and \"/\" in file.get(\"path\"):\n",
    "        if file.get(\"path\").endswith(\".ipynb\"):\n",
    "            temp = file.get(\"path\").split(\"/\")\n",
    "            if temp == -1:\n",
    "                data = {\n",
    "                    \"root\": None,\n",
    "                    \"subdir\": file.get(\"path\")\n",
    "                }\n",
    "                notebooks.append(data)\n",
    "            else:\n",
    "                last_folder = \"\"\n",
    "                file_name = temp[-1]\n",
    "                temp.pop()\n",
    "                for folder in temp:\n",
    "                    last_folder += \"/\" + folder\n",
    "                root = last_folder[1:]\n",
    "                data = {\n",
    "                    \"root\": root,\n",
    "                    \"subdir\": file_name\n",
    "                }\n",
    "                notebooks.append(data)\n",
    "\n",
    "df_github = pd.DataFrame(notebooks)\n",
    "df_github"
   ]
  },
  {
   "cell_type": "markdown",
   "id": "d76baf36-56c4-49f9-93e8-00889b174845",
   "metadata": {},
   "source": [
    "## Model"
   ]
  },
  {
   "cell_type": "markdown",
   "id": "dc0096b6-53ab-4738-b589-b4c7018b349b",
   "metadata": {},
   "source": [
    "### Reformat functions"
   ]
  },
  {
   "cell_type": "code",
   "execution_count": null,
   "id": "abb4dd05-cc19-4b8a-b65d-b5a509425ed8",
   "metadata": {
    "execution": {
     "iopub.execute_input": "2022-10-15T17:28:16.274768Z",
     "iopub.status.busy": "2022-10-15T17:28:16.274194Z",
     "iopub.status.idle": "2022-10-15T17:28:16.280078Z",
     "shell.execute_reply": "2022-10-15T17:28:16.279446Z"
    },
    "tags": []
   },
   "outputs": [],
   "source": [
    "def reformat_file_name(file):\n",
    "    file_nice = file.replace('_', ' ')\n",
    "    file_nice = file_nice.replace(notebook_ext, '')\n",
    "    file_nice = file_nice.replace(folder_nice, '')\n",
    "    file_nice = file_nice.strip()\n",
    "    if (file_nice != \"\"):\n",
    "            file_nice = file_nice[0].capitalize() + file_nice[1:]\n",
    "    return file_nice"
   ]
  },
  {
   "cell_type": "markdown",
   "id": "78ec2d9e-9487-4f17-b6d0-d23f2e823701",
   "metadata": {},
   "source": [
    "### Get functions"
   ]
  },
  {
   "cell_type": "code",
   "execution_count": null,
   "id": "60f09f7c-1930-4c6b-92d0-02676447e008",
   "metadata": {
    "execution": {
     "iopub.execute_input": "2022-10-15T17:28:16.283429Z",
     "iopub.status.busy": "2022-10-15T17:28:16.283122Z",
     "iopub.status.idle": "2022-10-15T17:28:16.288894Z",
     "shell.execute_reply": "2022-10-15T17:28:16.288377Z"
    },
    "tags": []
   },
   "outputs": [],
   "source": [
    "def get_open_button(download_link):\n",
    "    return f\"\"\"<a href=\"{download_link}\" target=\"_parent\"><img src=\"{naas_logo}\"/></a>\"\"\"\n",
    "\n",
    "def get_title(folder_nice, file_nice, download_link):\n",
    "    return f\"\"\"# {folder_nice} - {file_nice}\\n{get_open_button(download_link)}\"\"\"\n",
    "\n",
    "def get_tags(text):\n",
    "    result = []\n",
    "    tags = text.split(' ')\n",
    "    for tag in tags:\n",
    "        if len(tag) >= 2 and tag[0] == '#' and tag[1] != ' ' and tag[1] != '#':\n",
    "            result.append(tag)\n",
    "    return result"
   ]
  },
  {
   "cell_type": "markdown",
   "id": "ordered-rebecca",
   "metadata": {},
   "source": [
    "### Set 'Naas Download' link on notebook"
   ]
  },
  {
   "cell_type": "code",
   "execution_count": null,
   "id": "shared-savannah",
   "metadata": {
    "execution": {
     "iopub.execute_input": "2022-10-15T17:28:16.291983Z",
     "iopub.status.busy": "2022-10-15T17:28:16.291755Z",
     "iopub.status.idle": "2022-10-15T17:28:16.299255Z",
     "shell.execute_reply": "2022-10-15T17:28:16.298648Z"
    },
    "tags": []
   },
   "outputs": [],
   "source": [
    "def set_notebook_title_and_get_tags(notebook_path, title_source, final_title, good_format):\n",
    "    header_found = False\n",
    "    tag_found = False\n",
    "    tags = None\n",
    "    count = 0\n",
    "    nb = load_notebook_node(notebook_path)\n",
    "    nb = copy.deepcopy(nb)\n",
    "    # Parse the entire notebook\n",
    "    for cell in nb.cells:\n",
    "        source = cell.source\n",
    "        if cell.cell_type == \"code\":\n",
    "            nb.cells[count].outputs = []\n",
    "        # Get the tags, because tags are always after the header cell\n",
    "        if header_found and not tag_found:\n",
    "            if cell.cell_type == \"markdown\":\n",
    "                tags = get_tags(cell.source)\n",
    "            tag_found = True\n",
    "        # Get the header cell\n",
    "        if not header_found and cell.cell_type == \"markdown\" and len(source) > 2 and source[0] == '#' and source[1] == ' ':\n",
    "            nb.cells[count].source = title_source\n",
    "            header_found = True\n",
    "        count += 1\n",
    "    # Set the good title format in the notabook\n",
    "    write_ipynb(nb, notebook_path)\n",
    "    # Rename the notebook if the tool name is not the same\n",
    "    if good_format == 1:\n",
    "        os.rename(notebook_path, final_title)\n",
    "    # Return tags\n",
    "    return tags"
   ]
  },
  {
   "cell_type": "markdown",
   "id": "infrared-destiny",
   "metadata": {
    "execution": {
     "iopub.execute_input": "2021-01-26T16:25:51.412411Z",
     "iopub.status.busy": "2021-01-26T16:25:51.412178Z",
     "iopub.status.idle": "2021-01-26T16:25:51.414944Z",
     "shell.execute_reply": "2021-01-26T16:25:51.414298Z",
     "shell.execute_reply.started": "2021-01-26T16:25:51.412388Z"
    }
   },
   "source": [
    "### Convert filepath in Markdown text"
   ]
  },
  {
   "cell_type": "code",
   "execution_count": null,
   "id": "devoted-syracuse",
   "metadata": {
    "execution": {
     "iopub.execute_input": "2022-10-15T17:28:16.302948Z",
     "iopub.status.busy": "2022-10-15T17:28:16.302726Z",
     "iopub.status.idle": "2022-10-15T17:28:16.311059Z",
     "shell.execute_reply": "2022-10-15T17:28:16.310496Z"
    },
    "tags": []
   },
   "outputs": [],
   "source": [
    "def get_file_md(folder_nice, folder_url, files, json_templates, title_sep=\"##\", subtitle_sep=\"*\"):\n",
    "    good_format = 0\n",
    "    final_title = \"\"\n",
    "    md = \"\"\n",
    "    folder_name = \"\"\n",
    "    tool_name = \"\"\n",
    "    tool_title = \"\"\n",
    "\n",
    "    if (len(files) > 0):\n",
    "        md += f\"\\n{title_sep} {folder_nice}\\n\"\n",
    "        for file in files:\n",
    "            if file.endswith(notebook_ext):\n",
    "                good_format = 0\n",
    "                file_url = urllib.parse.quote(file)\n",
    "                folder_name = folder_nice\n",
    "                temp = folder_name.split(\"_\")\n",
    "                tool_name = temp[0]\n",
    "                file_nice = reformat_file_name(file)\n",
    "                # Check if the tool name is the same as the tool name in the notebook name\n",
    "                if tool_name != folder_name:\n",
    "                    temp = file.split(\"_\")\n",
    "                    del temp[0]\n",
    "                    tool_title = folder_name + \"_\"\n",
    "                    for i in temp:\n",
    "                        tool_title += i + \"_\"\n",
    "                    final_title = folder_name + \"/\" + tool_title[:-1]\n",
    "                    good_format = 1\n",
    "                path = urllib.parse.unquote(f\"{folder_url}/{file_url}\")\n",
    "                # Get the download URL\n",
    "                dl_url = f\"{naas_download_url}{github_download_url}{folder_url}/{file_url}\"\n",
    "                # Put the title to the format \"TOOLS - NAME_OF_NOTEBOOK Open_In_Naas\"\n",
    "                title = get_title(folder_nice, file_nice, dl_url)\n",
    "                # Set the good title format and get the tags from the notebooks of the folder\n",
    "                tags = set_notebook_title_and_get_tags(path, title, final_title, good_format)\n",
    "                # Get the name of the Notebook and the redirect to github link\n",
    "                nb_redirect = f\"[{file_nice}]({github_url}/{folder_url}/{file_url})\"\n",
    "                # Get the open in naas format\n",
    "                open_button = get_open_button(dl_url)\n",
    "                # For the actual file, put the nnotebook name and the gihub link for the return in markdown\n",
    "                md += f\"{subtitle_sep} {nb_redirect}\\n\"\n",
    "                json_templates.append({\n",
    "                    'tool': folder_nice,\n",
    "                    'notebook': file_nice,\n",
    "                    'tags': tags,\n",
    "                    'update': '',\n",
    "                    'action': open_button\n",
    "                })\n",
    "    return md"
   ]
  },
  {
   "cell_type": "markdown",
   "id": "featured-anchor",
   "metadata": {},
   "source": [
    "### Generate markdown for each notebooks"
   ]
  },
  {
   "cell_type": "code",
   "execution_count": null,
   "id": "viral-cause",
   "metadata": {
    "execution": {
     "iopub.execute_input": "2022-10-15T17:28:16.314486Z",
     "iopub.status.busy": "2022-10-15T17:28:16.314031Z",
     "iopub.status.idle": "2022-10-15T17:28:18.287928Z",
     "shell.execute_reply": "2022-10-15T17:28:18.287146Z"
    },
    "tags": []
   },
   "outputs": [],
   "source": [
    "generated_list = \"\"\n",
    "json_templates = []\n",
    "list_of_tools = []\n",
    "index_max = len(notebooks)\n",
    "index = 0\n",
    "\n",
    "while index <= (index_max) - 1:\n",
    "    folder_nice = notebooks[index].get(\"root\")\n",
    "    if folder_nice not in list_of_tools and folder_nice != \"\":\n",
    "        md_round = \"\"\n",
    "        files = []\n",
    "        list_of_tools.append(folder_nice)\n",
    "        folder_url = urllib.parse.quote(folder_nice)\n",
    "        print(folder_nice)\n",
    "        while True:\n",
    "            if notebooks[index].get(\"root\") != folder_nice:\n",
    "                break\n",
    "            print(notebooks[index].get(\"subdir\"))\n",
    "            files.append(notebooks[index].get(\"subdir\"))\n",
    "            index += 1\n",
    "            if index == index_max:\n",
    "                break\n",
    "        if (\"/\" not in folder_nice):\n",
    "            md_round += get_file_md(folder_nice, folder_url, files, json_templates)\n",
    "        else:\n",
    "            folder_url = urllib.parse.quote(folder_nice)\n",
    "            subfolder_nice = folder_nice.split('/')[1].replace('_', ' ').replace(folder_nice, '').strip()\n",
    "            md_round += get_file_md(subfolder_nice, folder_url, files, json_templates, \"\\t###\", \"\\t-\")\n",
    "        generated_list += md_round"
   ]
  },
  {
   "cell_type": "markdown",
   "id": "f5d63b5f-5209-4f89-8d1c-d85fa8a2b73f",
   "metadata": {},
   "source": [
    "## Output"
   ]
  },
  {
   "cell_type": "markdown",
   "id": "aboriginal-responsibility",
   "metadata": {},
   "source": [
    "### Preview the generated list"
   ]
  },
  {
   "cell_type": "code",
   "execution_count": null,
   "id": "broadband-rachel",
   "metadata": {
    "execution": {
     "iopub.execute_input": "2022-10-15T17:28:18.291652Z",
     "iopub.status.busy": "2022-10-15T17:28:18.291194Z",
     "iopub.status.idle": "2022-10-15T17:28:18.975423Z",
     "shell.execute_reply": "2022-10-15T17:28:18.974675Z"
    },
    "tags": []
   },
   "outputs": [],
   "source": [
    "naas_drivers.markdown.display(generated_list)"
   ]
  },
  {
   "cell_type": "markdown",
   "id": "88e075a7-8341-45af-a250-c1594c004579",
   "metadata": {},
   "source": [
    "### Generate readme for github repository"
   ]
  },
  {
   "cell_type": "code",
   "execution_count": null,
   "id": "younger-consensus",
   "metadata": {
    "execution": {
     "iopub.execute_input": "2022-10-15T17:28:18.979420Z",
     "iopub.status.busy": "2022-10-15T17:28:18.978846Z",
     "iopub.status.idle": "2022-10-15T17:28:18.984672Z",
     "shell.execute_reply": "2022-10-15T17:28:18.984070Z"
    },
    "tags": []
   },
   "outputs": [],
   "source": [
    "# Open README template\n",
    "template = open(readme_template).read()\n",
    "\n",
    "# Replace var to get list of templates in markdown format\n",
    "template = template.replace(replace_var, generated_list)\n",
    "\n",
    "# Save README\n",
    "f  = open(readme, \"w+\")\n",
    "f.write(template)\n",
    "f.close()"
   ]
  },
  {
   "cell_type": "markdown",
   "id": "de15f85e-5b64-4e51-a73b-b666fe319e97",
   "metadata": {},
   "source": [
    "### Generate json for naas manager"
   ]
  },
  {
   "cell_type": "code",
   "execution_count": null,
   "id": "2a95cba3-027c-4a57-8bfa-2ee1e9053bb7",
   "metadata": {
    "execution": {
     "iopub.execute_input": "2022-10-15T17:28:18.988090Z",
     "iopub.status.busy": "2022-10-15T17:28:18.987695Z",
     "iopub.status.idle": "2022-10-15T17:28:18.996222Z",
     "shell.execute_reply": "2022-10-15T17:28:18.995665Z"
    },
    "tags": []
   },
   "outputs": [],
   "source": [
    "with open(json_file, 'w') as f:\n",
    "    json.dump(json_templates, f)"
   ]
  },
  {
   "cell_type": "code",
   "execution_count": null,
   "id": "70db7c84-57ad-4a92-a60b-9f20b60b5329",
   "metadata": {},
   "outputs": [],
   "source": []
  }
 ],
 "metadata": {
  "interpreter": {
   "hash": "e7370f93d1d0cde622a1f8e1c04877d8463912d04d973331ad4851f04de6915a"
  },
  "kernelspec": {
   "display_name": "Python 3",
   "language": "python",
   "name": "python3"
  },
  "language_info": {
   "codemirror_mode": {
    "name": "ipython",
    "version": 3
   },
   "file_extension": ".py",
   "mimetype": "text/x-python",
   "name": "python",
   "nbconvert_exporter": "python",
   "pygments_lexer": "ipython3",
   "version": "3.8.10"
  },
  "widgets": {
   "application/vnd.jupyter.widget-state+json": {
    "state": {},
    "version_major": 2,
    "version_minor": 0
   }
  }
 },
 "nbformat": 4,
 "nbformat_minor": 5
}
